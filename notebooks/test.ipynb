{
 "cells": [
  {
   "cell_type": "code",
   "execution_count": 3,
   "id": "1c407736",
   "metadata": {},
   "outputs": [],
   "source": [
    "import pandas as pd"
   ]
  },
  {
   "cell_type": "code",
   "execution_count": 2,
   "id": "8fc124b6",
   "metadata": {},
   "outputs": [
    {
     "name": "stdout",
     "output_type": "stream",
     "text": [
      "Hello World\n"
     ]
    }
   ],
   "source": [
    "print(\"Hello World\")\n"
   ]
  },
  {
   "cell_type": "code",
   "execution_count": 5,
   "id": "591672f3",
   "metadata": {},
   "outputs": [],
   "source": [
    "df = pd.read_csv(\"../Data/Movies.csv\")"
   ]
  },
  {
   "cell_type": "code",
   "execution_count": 10,
   "id": "fb877807",
   "metadata": {},
   "outputs": [
    {
     "data": {
      "text/plain": [
       "dtype('float64')"
      ]
     },
     "execution_count": 10,
     "metadata": {},
     "output_type": "execute_result"
    }
   ],
   "source": [
    "df[\"vote_average\"].dtype"
   ]
  },
  {
   "cell_type": "code",
   "execution_count": 11,
   "id": "9d191040",
   "metadata": {},
   "outputs": [
    {
     "data": {
      "text/plain": [
       "array(['en', 'sv', 'hi', 'zh', 'ru', 'fa', 'no', 'pt', 'fr', 'id', 'ko',\n",
       "       'ja', 'cs', 'de', 'it', 'te', 'th', 'da', 'es', 'cn', 'uk', 'nl',\n",
       "       'tl', 'ga', 'gl', 'lv', 'pl', 'tr', 'ms', 'ta', 'ml', 'ca', 'fi',\n",
       "       'xx', 'kk', 'vi', 'ar', 'sr', 'et', 'ro', 'mk', 'mn', 'hu', 'pa',\n",
       "       'is', 'kn', 'uz', 'ho', 'he', 'el', 'mr', 'bn', 'jv', 'az', 'my',\n",
       "       'km', 'ur', 'hr', 'sq', 'mi', 'ht', 'yi', 'ka', 'gu', 'st', 'bg',\n",
       "       'la', 'sh', 'af', 'lt', 'bs'], dtype=object)"
      ]
     },
     "execution_count": 11,
     "metadata": {},
     "output_type": "execute_result"
    }
   ],
   "source": [
    "df[\"original_language\"].unique()"
   ]
  },
  {
   "cell_type": "code",
   "execution_count": 6,
   "id": "635c8575",
   "metadata": {},
   "outputs": [
    {
     "data": {
      "text/plain": [
       "Index(['id', 'title', 'original_title', 'overview', 'adult',\n",
       "       'original_language', 'popularity', 'release_date', 'vote_average',\n",
       "       'vote_count'],\n",
       "      dtype='object')"
      ]
     },
     "execution_count": 6,
     "metadata": {},
     "output_type": "execute_result"
    }
   ],
   "source": [
    "df.columns"
   ]
  }
 ],
 "metadata": {
  "kernelspec": {
   "display_name": "UmeshEnv",
   "language": "python",
   "name": "python3"
  },
  "language_info": {
   "codemirror_mode": {
    "name": "ipython",
    "version": 3
   },
   "file_extension": ".py",
   "mimetype": "text/x-python",
   "name": "python",
   "nbconvert_exporter": "python",
   "pygments_lexer": "ipython3",
   "version": "3.13.5"
  }
 },
 "nbformat": 4,
 "nbformat_minor": 5
}
