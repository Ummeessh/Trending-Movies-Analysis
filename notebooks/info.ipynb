{
 "cells": [
  {
   "cell_type": "code",
   "execution_count": 1,
   "id": "1c407736",
   "metadata": {},
   "outputs": [],
   "source": [
    "import pandas as pd"
   ]
  },
  {
   "cell_type": "code",
   "execution_count": 2,
   "id": "8fc124b6",
   "metadata": {},
   "outputs": [
    {
     "name": "stdout",
     "output_type": "stream",
     "text": [
      "Hello World\n"
     ]
    }
   ],
   "source": [
    "print(\"Hello World\")\n"
   ]
  },
  {
   "cell_type": "code",
   "execution_count": 3,
   "id": "591672f3",
   "metadata": {},
   "outputs": [],
   "source": [
    "df = pd.read_csv(\"../Data/Movies.csv\")"
   ]
  },
  {
   "cell_type": "code",
   "execution_count": 4,
   "id": "fb877807",
   "metadata": {},
   "outputs": [
    {
     "data": {
      "text/plain": [
       "dtype('float64')"
      ]
     },
     "execution_count": 4,
     "metadata": {},
     "output_type": "execute_result"
    }
   ],
   "source": [
    "df[\"vote_average\"].dtype"
   ]
  },
  {
   "cell_type": "code",
   "execution_count": 5,
   "id": "9d191040",
   "metadata": {},
   "outputs": [
    {
     "data": {
      "text/plain": [
       "array(['en', 'sv', 'hi', 'zh', 'ru', 'fa', 'no', 'pt', 'fr', 'id', 'ko',\n",
       "       'ja', 'cs', 'de', 'it', 'te', 'th', 'da', 'es', 'cn', 'uk', 'nl',\n",
       "       'tl', 'ga', 'gl', 'lv', 'pl', 'tr', 'ms', 'ta', 'ml', 'ca', 'fi',\n",
       "       'xx', 'kk', 'vi', 'ar', 'sr', 'et', 'ro', 'mk', 'mn', 'hu', 'pa',\n",
       "       'is', 'kn', 'uz', 'ho', 'he', 'el', 'mr', 'bn', 'jv', 'az', 'my',\n",
       "       'km', 'ur', 'hr', 'sq', 'mi', 'ht', 'yi', 'ka', 'gu', 'st', 'bg',\n",
       "       'la', 'sh', 'af', 'lt', 'bs'], dtype=object)"
      ]
     },
     "execution_count": 5,
     "metadata": {},
     "output_type": "execute_result"
    }
   ],
   "source": [
    "df[\"original_language\"].unique()"
   ]
  },
  {
   "cell_type": "code",
   "execution_count": 6,
   "id": "635c8575",
   "metadata": {},
   "outputs": [
    {
     "data": {
      "text/plain": [
       "Index(['id', 'title', 'original_title', 'overview', 'adult',\n",
       "       'original_language', 'popularity', 'release_date', 'vote_average',\n",
       "       'vote_count'],\n",
       "      dtype='object')"
      ]
     },
     "execution_count": 6,
     "metadata": {},
     "output_type": "execute_result"
    }
   ],
   "source": [
    "df.columns"
   ]
  },
  {
   "cell_type": "code",
   "execution_count": null,
   "id": "e66b8efc",
   "metadata": {},
   "outputs": [
    {
     "name": "stdout",
     "output_type": "stream",
     "text": [
      "Error: Movies.csv not found in Data folder\n",
      "\n",
      "Movies with complete data: 8954\n",
      "\n",
      "=== POPULAR MOVIES IN YOUR DATASET ===\n",
      "                                    title  vote_average  popularity original_language  adult\n",
      "                        A Minecraft Movie         6.527    694.9673                en  False\n",
      "             Final Destination Bloodlines         7.078    535.0346                en  False\n",
      "                            Lilo & Stitch         7.063    508.3123                en  False\n",
      "Mission: Impossible - The Final Reckoning         7.026    325.1914                en  False\n",
      "                            A Working Man         6.674    314.9315                en  False\n",
      "                               Until Dawn         6.360    287.8015                en  False\n",
      "                               Snow White         4.302    268.7116                en  False\n",
      "                                  Warfare         7.226    262.0183                en  False\n",
      "                       The Legend of Ochi         6.075    240.6930                en  False\n",
      "                        Fountain of Youth         6.900    221.1354                en  False\n",
      "\n",
      "=== HIGH-RATED MOVIES IN YOUR DATASET ===\n",
      "                         title  vote_average  popularity original_language  adult\n",
      "                          Nude         9.400      7.9670                en  False\n",
      "                     Kill Shot         9.112      4.1324                en  False\n",
      "      The Shawshank Redemption         8.710     35.7248                en  False\n",
      "                 The Godfather         8.687     31.7735                en  False\n",
      "Nirvana: Unplugged In New York         8.597      0.5171                en  False\n",
      "         The Godfather Part II         8.570     16.7490                en  False\n",
      "              Schindler's List         8.565     17.2990                en  False\n",
      "              Schindler's List         8.565     17.2990                en  False\n",
      "                  12 Angry Men         8.548     15.8763                en  False\n",
      "                  12 Angry Men         8.548     15.8763                en  False\n",
      "\n",
      "=== WELL-BALANCED MOVIES (Good rating + popularity) ===\n",
      "               title  vote_average  popularity original_language  adult\n",
      " ¡Qué Huevos, Sofía!         8.375     97.0973                es  False\n",
      "      The Wild Robot         8.316     56.4225                en  False\n",
      "  The Great Dictator         8.295    208.7178                en  False\n",
      "              Palmer         8.126     53.8103                en  False\n",
      "            My Fault         7.807     61.5849                es  False\n",
      "Sonic the Hedgehog 3         7.716     81.8578                en  False\n",
      " Karate Kid: Legends         7.700     83.6855                en  False\n",
      "           The Gorge         7.700     61.9668                en  False\n",
      "             Sinners         7.600    111.2267                en  False\n",
      "       Lilo & Stitch         7.542    118.1579                en  False\n",
      "\n",
      "============================================================\n",
      "RECOMMENDED MOVIE FOR PREDICTION TESTING:\n",
      "============================================================\n",
      "Title: A Minecraft Movie\n",
      "Vote Average: 6.527\n",
      "Popularity: 694.9673\n",
      "Language: en\n",
      "Adult: False\n",
      "Vote Count: 1416\n",
      "\n",
      "Overview:\n",
      "Four misfits find themselves struggling with ordinary problems when they are suddenly pulled through a mysterious portal into the Overworld: a bizarre, cubic wonderland that thrives on imagination. To get back home, they'll have to master this world while embarking on a magical quest with an unexpected, expert crafter, Steve.\n",
      "\n",
      "============================================================\n",
      "COPY THIS DATA FOR YOUR PREDICTION:\n",
      "============================================================\n",
      "title = \"A Minecraft Movie\"\n",
      "overview = \"\"\"Four misfits find themselves struggling with ordinary problems when they are suddenly pulled through a mysterious portal into the Overworld: a bizarre, cubic wonderland that thrives on imagination. To get back home, they'll have to master this world while embarking on a magical quest with an unexpected, expert crafter, Steve.\"\"\"\n",
      "original_language = \"en\"\n",
      "adult = False\n",
      "popularity = 694.9673\n",
      "# Expected vote_average: 6.527\n"
     ]
    },
    {
     "ename": "",
     "evalue": "",
     "output_type": "error",
     "traceback": [
      "\u001b[1;31mThe Kernel crashed while executing code in the current cell or a previous cell. \n",
      "\u001b[1;31mPlease review the code in the cell(s) to identify a possible cause of the failure. \n",
      "\u001b[1;31mClick <a href='https://aka.ms/vscodeJupyterKernelCrash'>here</a> for more info. \n",
      "\u001b[1;31mView Jupyter <a href='command:jupyter.viewOutput'>log</a> for further details."
     ]
    }
   ],
   "source": [
    "# Script to find a good movie from your dataset for prediction testing\n",
    "import pandas as pd\n",
    "\n",
    "# Load your dataset\n",
    "try:\n",
    "    df = pd.read_csv(\"../Data/Movies.csv\")\n",
    "    print(f\"Dataset loaded successfully: {len(df)} movies\")\n",
    "except FileNotFoundError:\n",
    "    print(\"Error: Movies.csv not found in Data folder\")\n",
    "    exit()\n",
    "\n",
    "# Clean the data\n",
    "df['overview'] = df['overview'].fillna('')\n",
    "df['title'] = df['title'].fillna('')\n",
    "df['original_language'] = df['original_language'].fillna('unknown')\n",
    "df['adult'] = df['adult'].fillna(False)\n",
    "df['popularity'] = df['popularity'].fillna(df['popularity'].median())\n",
    "\n",
    "# Find movies with good data (non-empty title and overview)\n",
    "good_movies = df[\n",
    "    (df['title'].str.len() > 0) & \n",
    "    (df['overview'].str.len() > 50) &  # Decent overview length\n",
    "    (df['vote_average'] > 0) &\n",
    "    (df['popularity'] > 0)\n",
    "].copy()\n",
    "\n",
    "print(f\"\\nMovies with complete data: {len(good_movies)}\")\n",
    "\n",
    "# Let's find some popular, well-known movies\n",
    "print(\"\\n=== POPULAR MOVIES IN YOUR DATASET ===\")\n",
    "popular_movies = good_movies.nlargest(10, 'popularity')[['title', 'vote_average', 'popularity', 'original_language', 'adult']]\n",
    "print(popular_movies.to_string(index=False))\n",
    "\n",
    "print(\"\\n=== HIGH-RATED MOVIES IN YOUR DATASET ===\")\n",
    "# Movies with at least 100 votes for credibility\n",
    "high_rated = good_movies[good_movies['vote_count'] >= 100].nlargest(10, 'vote_average')[['title', 'vote_average', 'popularity', 'original_language', 'adult']]\n",
    "print(high_rated.to_string(index=False))\n",
    "\n",
    "print(\"\\n=== WELL-BALANCED MOVIES (Good rating + popularity) ===\")\n",
    "# Movies with decent rating and popularity\n",
    "balanced = good_movies[\n",
    "    (good_movies['vote_average'] >= 6.0) & \n",
    "    (good_movies['popularity'] >= 50)\n",
    "].nlargest(10, 'vote_average')[['title', 'vote_average', 'popularity', 'original_language', 'adult']]\n",
    "print(balanced.to_string(index=False))\n",
    "\n",
    "# Let's pick one specific movie and show its full details\n",
    "print(\"\\n\" + \"=\"*60)\n",
    "print(\"RECOMMENDED MOVIE FOR PREDICTION TESTING:\")\n",
    "print(\"=\"*60)\n",
    "\n",
    "# Choose the most popular movie or a well-known one\n",
    "if not good_movies.empty:\n",
    "    # Get the most popular movie\n",
    "    sample_movie = good_movies.loc[good_movies['popularity'].idxmax()]\n",
    "    \n",
    "    print(f\"Title: {sample_movie['title']}\")\n",
    "    print(f\"Vote Average: {sample_movie['vote_average']}\")\n",
    "    print(f\"Popularity: {sample_movie['popularity']}\")\n",
    "    print(f\"Language: {sample_movie['original_language']}\")\n",
    "    print(f\"Adult: {sample_movie['adult']}\")\n",
    "    print(f\"Vote Count: {sample_movie['vote_count']}\")\n",
    "    print(f\"\\nOverview:\")\n",
    "    print(f\"{sample_movie['overview']}\")\n",
    "    \n",
    "    print(\"\\n\" + \"=\"*60)\n",
    "    print(\"COPY THIS DATA FOR YOUR PREDICTION:\")\n",
    "    print(\"=\"*60)\n",
    "    print(f'title = \"{sample_movie[\"title\"]}\"')\n",
    "    print(f'overview = \"\"\"{sample_movie[\"overview\"]}\"\"\"')\n",
    "    print(f'original_language = \"{sample_movie[\"original_language\"]}\"')\n",
    "    print(f'adult = {sample_movie[\"adult\"]}')\n",
    "    print(f'popularity = {sample_movie[\"popularity\"]}')\n",
    "    print(f'# Expected vote_average: {sample_movie[\"vote_average\"]}')"
   ]
  }
 ],
 "metadata": {
  "kernelspec": {
   "display_name": "MyEnv (3.13.3)",
   "language": "python",
   "name": "python3"
  },
  "language_info": {
   "codemirror_mode": {
    "name": "ipython",
    "version": 3
   },
   "file_extension": ".py",
   "mimetype": "text/x-python",
   "name": "python",
   "nbconvert_exporter": "python",
   "pygments_lexer": "ipython3",
   "version": "3.13.3"
  }
 },
 "nbformat": 4,
 "nbformat_minor": 5
}
